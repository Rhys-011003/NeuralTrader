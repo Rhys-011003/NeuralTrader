{
 "cells": [
  {
   "cell_type": "code",
   "execution_count": 154,
   "metadata": {},
   "outputs": [],
   "source": [
    "import numpy as np\n",
    "from numpy import random as random\n",
    "import matplotlib.pyplot as plt\n",
    "from multiprocessing import Process"
   ]
  },
  {
   "cell_type": "code",
   "execution_count": 155,
   "metadata": {},
   "outputs": [],
   "source": [
    "def runInParallel(*fns):\n",
    "  proc = []\n",
    "  for fn in fns:\n",
    "    p = Process(target=fn)\n",
    "    p.start()\n",
    "    proc.append(p)\n",
    "  for p in proc:\n",
    "    p.join()"
   ]
  },
  {
   "cell_type": "code",
   "execution_count": 156,
   "metadata": {},
   "outputs": [],
   "source": [
    "priceGlobal=np.zeros(10)\n",
    "averageGlobal=np.zeros(10)\n",
    "Total=1000\n",
    "timeGlobal=0\n",
    "completed=[]\n",
    "time=[]"
   ]
  },
  {
   "cell_type": "code",
   "execution_count": 157,
   "metadata": {},
   "outputs": [],
   "source": [
    "def RandomGen(prev,maxChange):\n",
    "    return prev + random.randint(-maxChange,maxChange)"
   ]
  },
  {
   "cell_type": "code",
   "execution_count": 158,
   "metadata": {},
   "outputs": [],
   "source": [
    "def closeBuy(priceBought,price,Total):\n",
    "    openOrder=True\n",
    "    while(openOrder==True):\n",
    "        if(price>priceBought):\n",
    "            Total=Total+price\n",
    "            openOrder=False\n",
    "\n",
    "def closeSell(priceSold,price,Total):\n",
    "    openOrder=True\n",
    "    while(openOrder==True):\n",
    "        if(price<priceSold):\n",
    "            Total=Total+price\n",
    "            openOrder=False\n"
   ]
  },
  {
   "cell_type": "code",
   "execution_count": 159,
   "metadata": {},
   "outputs": [],
   "source": [
    "def trade(currentPrice,indicator,percentToBuy,Total):\n",
    "    if(indicator==\"buy\"):\n",
    "        #buy\n",
    "        priceBought=currentPrice\n",
    "        Total = Total-(percentToBuy*currentPrice)\n",
    "        closeBuy(priceBought,priceGlobal[(timeGlobal)],Total)\n",
    "    elif(indicator==\"sell\"):\n",
    "        #sell\n",
    "        priceSold=currentPrice\n",
    "        Total=Total-(percentToBuy*currentPrice)\n",
    "        closeSell(priceSold,priceGlobal[(timeGlobal)],Total)\n",
    "\n"
   ]
  },
  {
   "cell_type": "code",
   "execution_count": 160,
   "metadata": {},
   "outputs": [],
   "source": [
    "def pullData(GenerateNew):\n",
    "    if(GenerateNew):\n",
    "        priceGlobal[(time)]= RandomGen(priceGlobal[(max(0,time-1))],100)\n",
    "        currentPrice=priceGlobal[(time)]\n",
    "        return currentPrice\n",
    "    else:\n",
    "        currentPrice=0\n",
    "        return currentPrice"
   ]
  },
  {
   "cell_type": "code",
   "execution_count": 161,
   "metadata": {},
   "outputs": [],
   "source": [
    "def processData():\n",
    "    averageGlobal[(time)]=(priceGlobal[(max(time-1,0))]+priceGlobal[(time)])/2\n",
    "    signal=\"buy\"\n",
    "    return signal"
   ]
  },
  {
   "cell_type": "code",
   "execution_count": 162,
   "metadata": {},
   "outputs": [],
   "source": [
    "def timeIterate():\n",
    "    timeGlobal+=1\n",
    "    time.append(timeGlobal)"
   ]
  },
  {
   "cell_type": "code",
   "execution_count": 163,
   "metadata": {},
   "outputs": [],
   "source": [
    "def graph():\n",
    "    plt.plot(time,priceGlobal)\n",
    "    plt.show"
   ]
  },
  {
   "cell_type": "code",
   "execution_count": 164,
   "metadata": {},
   "outputs": [],
   "source": [
    "def run(AmountToBuy,Gen):\n",
    "    currentPrice=pullData(Gen)\n",
    "    signal=processData()\n",
    "    trade(currentPrice,signal,AmountToBuy,Total)"
   ]
  },
  {
   "cell_type": "code",
   "execution_count": 165,
   "metadata": {},
   "outputs": [
    {
     "ename": "TypeError",
     "evalue": "unsupported operand type(s) for -: 'list' and 'int'",
     "output_type": "error",
     "traceback": [
      "\u001b[1;31m---------------------------------------------------------------------------\u001b[0m",
      "\u001b[1;31mTypeError\u001b[0m                                 Traceback (most recent call last)",
      "\u001b[1;32md:\\Trading-Bot\\Trade2.ipynb Cell 12\u001b[0m in \u001b[0;36m<cell line: 2>\u001b[1;34m()\u001b[0m\n\u001b[0;32m      <a href='vscode-notebook-cell:/d%3A/Trading-Bot/Trade2.ipynb#ch0000027?line=0'>1</a>\u001b[0m timeGlobal\u001b[39m+\u001b[39m\u001b[39m=\u001b[39m\u001b[39m1\u001b[39m\n\u001b[1;32m----> <a href='vscode-notebook-cell:/d%3A/Trading-Bot/Trade2.ipynb#ch0000027?line=1'>2</a>\u001b[0m runInParallel(run(\u001b[39m1\u001b[39;49m,\u001b[39mTrue\u001b[39;49;00m), timeIterate(),graph())\n",
      "\u001b[1;32md:\\Trading-Bot\\Trade2.ipynb Cell 12\u001b[0m in \u001b[0;36mrun\u001b[1;34m(AmountToBuy, Gen)\u001b[0m\n\u001b[0;32m      <a href='vscode-notebook-cell:/d%3A/Trading-Bot/Trade2.ipynb#ch0000027?line=0'>1</a>\u001b[0m \u001b[39mdef\u001b[39;00m \u001b[39mrun\u001b[39m(AmountToBuy,Gen):\n\u001b[1;32m----> <a href='vscode-notebook-cell:/d%3A/Trading-Bot/Trade2.ipynb#ch0000027?line=1'>2</a>\u001b[0m     currentPrice\u001b[39m=\u001b[39mpullData(Gen)\n\u001b[0;32m      <a href='vscode-notebook-cell:/d%3A/Trading-Bot/Trade2.ipynb#ch0000027?line=2'>3</a>\u001b[0m     signal\u001b[39m=\u001b[39mprocessData()\n\u001b[0;32m      <a href='vscode-notebook-cell:/d%3A/Trading-Bot/Trade2.ipynb#ch0000027?line=3'>4</a>\u001b[0m     trade(currentPrice,signal,AmountToBuy,Total)\n",
      "\u001b[1;32md:\\Trading-Bot\\Trade2.ipynb Cell 12\u001b[0m in \u001b[0;36mpullData\u001b[1;34m(GenerateNew)\u001b[0m\n\u001b[0;32m      <a href='vscode-notebook-cell:/d%3A/Trading-Bot/Trade2.ipynb#ch0000027?line=0'>1</a>\u001b[0m \u001b[39mdef\u001b[39;00m \u001b[39mpullData\u001b[39m(GenerateNew):\n\u001b[0;32m      <a href='vscode-notebook-cell:/d%3A/Trading-Bot/Trade2.ipynb#ch0000027?line=1'>2</a>\u001b[0m     \u001b[39mif\u001b[39;00m(GenerateNew):\n\u001b[1;32m----> <a href='vscode-notebook-cell:/d%3A/Trading-Bot/Trade2.ipynb#ch0000027?line=2'>3</a>\u001b[0m         priceGlobal[(time)]\u001b[39m=\u001b[39m RandomGen(priceGlobal[(\u001b[39mmax\u001b[39m(\u001b[39m0\u001b[39m,time\u001b[39m-\u001b[39;49m\u001b[39m1\u001b[39;49m))],\u001b[39m100\u001b[39m)\n\u001b[0;32m      <a href='vscode-notebook-cell:/d%3A/Trading-Bot/Trade2.ipynb#ch0000027?line=3'>4</a>\u001b[0m         currentPrice\u001b[39m=\u001b[39mpriceGlobal[(time)]\n\u001b[0;32m      <a href='vscode-notebook-cell:/d%3A/Trading-Bot/Trade2.ipynb#ch0000027?line=4'>5</a>\u001b[0m         \u001b[39mreturn\u001b[39;00m currentPrice\n",
      "\u001b[1;31mTypeError\u001b[0m: unsupported operand type(s) for -: 'list' and 'int'"
     ]
    }
   ],
   "source": [
    "timeGlobal+=1\n",
    "runInParallel(run(1,True), timeIterate(),graph())\n",
    "\n",
    "\n"
   ]
  }
 ],
 "metadata": {
  "kernelspec": {
   "display_name": "Python 3.9.12 ('base')",
   "language": "python",
   "name": "python3"
  },
  "language_info": {
   "codemirror_mode": {
    "name": "ipython",
    "version": 3
   },
   "file_extension": ".py",
   "mimetype": "text/x-python",
   "name": "python",
   "nbconvert_exporter": "python",
   "pygments_lexer": "ipython3",
   "version": "3.9.12"
  },
  "orig_nbformat": 4,
  "vscode": {
   "interpreter": {
    "hash": "5d1bc4e8955e5bf1bc1e62edeac4af5b49ee96ccaaf80552d380def9590f0d52"
   }
  }
 },
 "nbformat": 4,
 "nbformat_minor": 2
}
