{
 "cells": [
  {
   "cell_type": "code",
   "execution_count": 82,
   "metadata": {},
   "outputs": [],
   "source": [
    "import numpy as np\n",
    "from numpy import random as random\n",
    "import matplotlib.pyplot as plt\n"
   ]
  },
  {
   "cell_type": "code",
   "execution_count": 83,
   "metadata": {},
   "outputs": [],
   "source": [
    "size=50\n",
    "maxlim=82.47 #Average Deviation For EUR/USD\n",
    "seed=1000 #+int(input(\"Seed\"))\n",
    "zero=0\n",
    "threshold=0.3\n",
    "Total=1000\n",
    "commission=10/100\n",
    "stopLoss=100\n",
    "stopProfit=5000\n",
    "amount=0\n",
    "openTrades=np.zeros((size,2))\n",
    "start=Total\n",
    "Trades=0\n",
    "buyTrade=0\n",
    "sellTrade=0\n",
    "INTProfit=0\n",
    "backDiff=int(size/8)"
   ]
  },
  {
   "cell_type": "code",
   "execution_count": 84,
   "metadata": {},
   "outputs": [],
   "source": [
    "\n",
    "timeArr=np.zeros(size)\n",
    "buy=np.zeros(size)\n",
    "priceAverage=np.zeros(size)\n",
    "priceVelocity=np.zeros(size)\n",
    "priceGlobal=np.zeros(size)\n",
    "priceAcceleration=np.zeros(size)\n",
    "profit=np.zeros(size)\n"
   ]
  },
  {
   "cell_type": "code",
   "execution_count": 85,
   "metadata": {},
   "outputs": [],
   "source": [
    "def R(arr,n,size,MAX,SEED,useseed):\n",
    "    if(useseed==True):\n",
    "        random.seed(SEED)\n",
    "    return  ( int(arr[(np.clip(n-1,0,size))])  +  ((random.randint(-MAX,MAX))))"
   ]
  },
  {
   "cell_type": "code",
   "execution_count": 86,
   "metadata": {},
   "outputs": [],
   "source": [
    "def graph(x):\n",
    "    global Total\n",
    "    global Trades\n",
    "    global priceGlobal\n",
    "    global priceAverage\n",
    "    global priceAcceleration\n",
    "    global priceVelocity\n",
    "    global openTrades\n",
    "    global buy\n",
    "    global profit\n",
    "    global sellTrade\n",
    "    global buyTrade\n",
    "    global INTProfit\n",
    "    plt.clf()\n",
    "    \n",
    "    plt.title(\"Total Trades:{} Sell:{} Buy:{} profit {}\".format(buyTrade+sellTrade,sellTrade,buyTrade,INTProfit))\n",
    "\n",
    "    plt.plot(np.resize(timeArr,(max(x-1,0))),np.resize(priceGlobal,(max(x-1,0))))\n",
    "    plt.plot(np.resize(timeArr,(max(x-1,0))),np.resize(priceAverage,(max(x-1,0))))\n",
    "    #plt.plot(np.resize(timeArr,(max(x-1,0))),np.resize(buy,(max(x-1,0))))\n",
    "    #plt.plot(np.resize(timeArr,(max(x-1,0))),np.resize(openTrades,(max(x-1,0))))\n",
    "    #plt.plot(np.resize(timeArr,(max(x-1,0))),np.resize(Trades,(max(x-1,0))))\n",
    "    plt.plot(np.resize(timeArr,(max(x-1,0))),np.resize(profit,(max(x-1,0))))\n",
    "    #plt.plot(np.resize(timeArr,(max(x-1,0))),np.resize(priceVelocity,(max(x-1,0))))\n",
    "    #plt.plot(np.resize(timeArr,(max(x-1,0))),np.resize(priceAcceleration,(max(x-1,0))))\n",
    "    #plt.plot(np.resize(timeArr,(max(x-1,0))),np.full((max(x-1,0)),profit[x]))\n",
    "   \n",
    "    plt.savefig(\"Img/{}.png\".format(x),dpi=800)\n",
    "    plt.show"
   ]
  },
  {
   "cell_type": "code",
   "execution_count": 87,
   "metadata": {},
   "outputs": [],
   "source": [
    "def processData(x):\n",
    "    global Total\n",
    "    global Trades\n",
    "    global priceGlobal\n",
    "    global priceAverage\n",
    "    global priceAcceleration\n",
    "    global priceVelocity\n",
    "    global openTrades\n",
    "    global buy\n",
    "\n",
    "    priceAverage[(x)]=(priceGlobal[(x)]+priceGlobal[(max(0,x-backDiff))])/2\n",
    "    priceVelocity[(x)]=priceAverage[(x)]-priceAverage[(max(0,x-backDiff))]\n",
    "    priceAcceleration[(x)]=priceVelocity[(x)]-priceVelocity[(max(0,x-1))]\n",
    "    \n"
   ]
  },
  {
   "cell_type": "code",
   "execution_count": 88,
   "metadata": {},
   "outputs": [],
   "source": [
    "def predict(price,Acceleration,zero,index):\n",
    "    if((Acceleration>0)and(price>zero)):\n",
    "        buy[(index)]=1\n",
    "    elif((Acceleration>0)and(price<zero)):\n",
    "        buy[(index)]=-1"
   ]
  },
  {
   "cell_type": "code",
   "execution_count": 89,
   "metadata": {},
   "outputs": [],
   "source": [
    "def run(Useseed):\n",
    "    global Total\n",
    "    global Trades\n",
    "    global priceGlobal\n",
    "    global priceAverage\n",
    "    global priceAcceleration\n",
    "    global priceVelocity\n",
    "    global openTrades\n",
    "    global buy\n",
    "    global profit\n",
    "    global Maximum\n",
    "    global Minimum\n",
    "    global buyTrade\n",
    "    global sellTrade\n",
    "    global INTProfit\n",
    "\n",
    "    for x in range(size):\n",
    "        \n",
    "        priceGlobal[(x)] = R(priceGlobal,x,size,maxlim,seed+x,Useseed)\n",
    "        timeArr[(x)]=x\n",
    "        processData(x)\n",
    "\n",
    "        zero=np.mean(priceGlobal)\n",
    "        Maximum=np.max(priceGlobal)\n",
    "        Minimum=np.min(priceGlobal)\n",
    "\n",
    "        predict(priceGlobal[(x)],priceAcceleration[(x)],zero,x)\n",
    "        if(Total>stopLoss):\n",
    "            if((buy[(x)])>0):\n",
    "                buyTrade+=1\n",
    "                Trades+=1\n",
    "                Total=Total-(amount*priceGlobal[(x)])-commission\n",
    "                openTrades[(x,0)]=1+openTrades[(max(x-1,0),0)]\n",
    "                openTrades[(x,1)]=Total\n",
    "                for price in openTrades:\n",
    "                    if(priceGlobal[(x)]<price[1]):\n",
    "                        Total=Total\n",
    "                    elif(priceGlobal[(x)]>price[1]):\n",
    "                        Total=Total+(priceGlobal[(x)]*amount)\n",
    "                    \n",
    "            elif((buy[(x)])<0):\n",
    "                sellTrade+=1\n",
    "                Trades+=1\n",
    "                Total=Total-(amount*priceGlobal[(x)])-commission\n",
    "                openTrades[(x,0)]=1+openTrades[(max(x-1,0),0)]\n",
    "                openTrades[(x,1)]=Total\n",
    "               \n",
    "                for price in openTrades:\n",
    "                    if(priceGlobal[(x)]<price[1]):\n",
    "                        Total=Total+(priceGlobal[(x)]*amount)\n",
    "                    elif(priceGlobal[(x)]>price[1]):\n",
    "                        Total=Total\n",
    "       \n",
    "        else:\n",
    "            #print(Total)\n",
    "            #Total=Total+int(input(\"Add Funds\"))\n",
    "            break\n",
    "        graph(x)\n",
    "        INTProfit=Total-start\n",
    "        profit[(x)]=Total-start\n",
    "        #if(profit[(x)]>stopProfit):\n",
    "        #    break    \n",
    "\n",
    "    \n",
    "        \n",
    "\n",
    "    while(openTrades[(size-1,0)]>0):\n",
    "        Total=Total+(amount*priceGlobal[(size-1)])\n",
    "        openTrades[(size-1,0)]-=1\n",
    "\n",
    "    profit[(size-1)]=Total-start  \n",
    "           \n"
   ]
  },
  {
   "cell_type": "markdown",
   "metadata": {},
   "source": [
    "def NeuralNet():\n",
    "    global amount\n",
    "    global threshold\n",
    "    global seed\n",
    "    global Trades\n",
    "    global profit\n",
    "    \n",
    "    for x in range(1):  \n",
    "        amount=10**(-2)\n",
    "        \n",
    "        run(True)\n",
    "        \n",
    "        \n",
    "        Trades=0 "
   ]
  },
  {
   "cell_type": "markdown",
   "metadata": {},
   "source": [
    "NeuralNet()\n"
   ]
  },
  {
   "cell_type": "markdown",
   "metadata": {},
   "source": [
    "Made Profit : 0.0 Total : 1000.0 in 497 Trades out of 1000 Trades ,10 Buy,487 Sell"
   ]
  },
  {
   "cell_type": "markdown",
   "metadata": {},
   "source": [
    "Made Profit : 0.0 Total : 1000.0 in 496 Trades out of 1000 Trades ,13 Buy,483 Sell\n"
   ]
  },
  {
   "cell_type": "markdown",
   "metadata": {},
   "source": [
    "Made Profit : -49.60000000001128 Total : 950.3999999999887 in 496 Trades out of 1000 Trades ,13 Buy,483 Sell\n",
    "\n",
    "Made Profit : -49.7000000000113 Total : 950.2999999999887 in 497 Trades out of 1000 Trades ,10 Buy,487 Sell\n",
    "\n",
    "Made Profit : -52.70000000001198 Total : 947.299999999988 in 527 Trades out of 1000 Trades ,17 Buy,510 Sell\n",
    "\n",
    "Made Profit : -49.60000000001128 Total : 950.3999999999887 in 496 Trades out of 1000 Trades ,13 Buy,483 Sell\n",
    "\n",
    "Made Profit : -50.30000000001144 Total : 949.6999999999886 in 503 Trades out of 1000 Trades ,13 Buy,490 Sell"
   ]
  },
  {
   "cell_type": "code",
   "execution_count": 90,
   "metadata": {},
   "outputs": [
    {
     "name": "stdout",
     "output_type": "stream",
     "text": [
      "Made Profit : -50.90000000001157 Total : 949.0999999999884 in 509 Trades out of 1000 Trades ,14 Buy,495 Sell\n"
     ]
    },
    {
     "data": {
      "image/png": "[encoded data removed]",
      "text/plain": [
       "<Figure size 432x288 with 1 Axes>"
      ]
     },
     "metadata": {
      "needs_background": "light"
     },
     "output_type": "display_data"
    }
   ],
   "source": [
    "\n",
    "\n",
    "run(True)\n",
    "print(\"Made Profit : {} Total : {} in {} Trades out of {} Trades ,{} Buy,{} Sell\".format(profit[(size-1)],Total,Trades,size,buyTrade,sellTrade))"
   ]
  }
 ],
 "metadata": {
  "kernelspec": {
   "display_name": "Python 3.9.12 ('base')",
   "language": "python",
   "name": "python3"
  },
  "language_info": {
   "codemirror_mode": {
    "name": "ipython",
    "version": 3
   },
   "file_extension": ".py",
   "mimetype": "text/x-python",
   "name": "python",
   "nbconvert_exporter": "python",
   "pygments_lexer": "ipython3",
   "version": "3.9.12"
  },
  "orig_nbformat": 4,
  "vscode": {
   "interpreter": {
    "hash": "5d1bc4e8955e5bf1bc1e62edeac4af5b49ee96ccaaf80552d380def9590f0d52"
   }
  }
 },
 "nbformat": 4,
 "nbformat_minor": 2
}
