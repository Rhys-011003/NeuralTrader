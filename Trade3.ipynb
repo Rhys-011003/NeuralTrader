{
 "cells": [
  {
   "cell_type": "markdown",
   "metadata": {},
   "source": [
    "## Libraries\n"
   ]
  },
  {
   "cell_type": "code",
   "execution_count": 33,
   "metadata": {},
   "outputs": [],
   "source": [
    "import numpy as np\n",
    "from numpy import random as random\n",
    "import matplotlib.pyplot as plt\n"
   ]
  },
  {
   "cell_type": "markdown",
   "metadata": {},
   "source": [
    "### File Operation Functions\n"
   ]
  },
  {
   "cell_type": "code",
   "execution_count": 34,
   "metadata": {},
   "outputs": [],
   "source": [
    "def clear(Fname):\n",
    "    f=open(Fname,'w')\n",
    "    f.write('')\n",
    "    f.close()\n",
    "def add(Fname,item):\n",
    "    f=open(Fname,'a')\n",
    "    f.write(item)\n",
    "    f.close()\n",
    "\n",
    "def rd(Fname):\n",
    "    f=open(Fname,'r')\n",
    "    temp=f.read().split('\\n')\n",
    "    return temp\n"
   ]
  },
  {
   "cell_type": "markdown",
   "metadata": {},
   "source": [
    "### Variables\n"
   ]
  },
  {
   "cell_type": "code",
   "execution_count": 35,
   "metadata": {},
   "outputs": [],
   "source": [
    "size=1000\n",
    "maxlim=82.47 #Average Deviation For EUR/USD\n",
    "seed=1000 #+int(input(\"Seed\"))\n",
    "zero=0\n",
    "threshold=0.3\n",
    "Total=1000\n",
    "commission=0\n",
    "stopLoss=100\n",
    "stopProfit=5000\n",
    "amount=0\n",
    "openTrades=np.zeros((size,2))\n",
    "start=Total\n",
    "Trades=0\n",
    "buyTrade=0\n",
    "sellTrade=0\n",
    "INTProfit=0\n",
    "backDiff=1 #int(size/8)"
   ]
  },
  {
   "cell_type": "markdown",
   "metadata": {},
   "source": [
    "### Numpy Variables"
   ]
  },
  {
   "cell_type": "code",
   "execution_count": 36,
   "metadata": {},
   "outputs": [],
   "source": [
    "\n",
    "timeArr=np.zeros(size)\n",
    "buy=np.zeros(size)\n",
    "priceAverage=np.zeros(size)\n",
    "priceVelocity=np.zeros(size)\n",
    "priceGlobal=np.zeros(size)\n",
    "priceAcceleration=np.zeros(size)\n",
    "profit=np.zeros(size)\n",
    "temp=np.zeros(size)\n"
   ]
  },
  {
   "cell_type": "markdown",
   "metadata": {},
   "source": [
    "#### Random Generator Function"
   ]
  },
  {
   "cell_type": "code",
   "execution_count": 37,
   "metadata": {},
   "outputs": [],
   "source": [
    "def R(arr,n,size,MAX,SEED,useseed):\n",
    "    if(useseed==True):\n",
    "        random.seed(SEED)\n",
    "    return  ( int(arr[(np.clip(n-1,0,size))])  +  ((random.randint(-MAX,MAX))))"
   ]
  },
  {
   "cell_type": "markdown",
   "metadata": {},
   "source": [
    "## Graphing Function"
   ]
  },
  {
   "cell_type": "code",
   "execution_count": 38,
   "metadata": {},
   "outputs": [],
   "source": [
    "def graph(x):\n",
    "    global Total\n",
    "    global Trades\n",
    "    global priceGlobal\n",
    "    global priceAverage\n",
    "    global priceAcceleration\n",
    "    global priceVelocity\n",
    "    global openTrades\n",
    "    global buy\n",
    "    global profit\n",
    "    global sellTrade\n",
    "    global buyTrade\n",
    "    global INTProfit\n",
    "    plt.clf()\n",
    "    \n",
    "    plt.title(\"Total Trades:{} Sell:{} Buy:{} profit {}\".format(buyTrade+sellTrade,sellTrade,buyTrade,INTProfit))\n",
    "\n",
    "    plt.plot(np.resize(timeArr,(max(x-1,0))),np.resize(priceGlobal,(max(x-1,0))))\n",
    "\n",
    "    \n",
    "    ##plt.plot(np.resize(timeArr,(max(x-1,0))),np.resize(priceAverage,(max(x-1,0))))\n",
    "    ##plt.plot(np.resize(timeArr,(max(x-1,0))),np.resize(profit,(max(x-1,0))))\n",
    "    #plt.plot(np.resize(timeArr,(max(x-1,0))),np.resize(priceVelocity,(max(x-1,0))))\n",
    "    #plt.plot(np.resize(timeArr,(max(x-1,0))),np.resize(priceAcceleration,(max(x-1,0))))\n",
    "    #plt.plot(np.resize(timeArr,(max(x-1,0))),np.full((max(x-1,0)),profit[x]))\n",
    "    #plt.plot(np.resize(timeArr,(max(x-1,0))),np.resize(buy,(max(x-1,0))))\n",
    "    #plt.plot(np.resize(timeArr,(max(x-1,0))),np.resize(openTrades,(max(x-1,0))))\n",
    "    #plt.plot(np.resize(timeArr,(max(x-1,0))),np.resize(Trades,(max(x-1,0))))\n",
    "   \n",
    "    #plt.savefig(\"Img/{}.png\".format(x),dpi=800)\n",
    "    plt.show"
   ]
  },
  {
   "cell_type": "markdown",
   "metadata": {},
   "source": [
    "## Data Processor"
   ]
  },
  {
   "cell_type": "code",
   "execution_count": 39,
   "metadata": {},
   "outputs": [],
   "source": [
    "def processData(x):\n",
    "    global Total\n",
    "    global Trades\n",
    "    global priceGlobal\n",
    "    global priceAverage\n",
    "    global priceAcceleration\n",
    "    global priceVelocity\n",
    "    global openTrades\n",
    "    global buy\n",
    "\n",
    "    priceAverage[(x)]=(priceGlobal[(x)]+priceGlobal[(max(0,x-backDiff))])/2\n",
    "    priceVelocity[(x)]=priceAverage[(x)]-priceAverage[(max(0,x-backDiff))]\n",
    "    priceAcceleration[(x)]=priceVelocity[(x)]-priceVelocity[(max(0,x-1))]\n",
    "    \n"
   ]
  },
  {
   "cell_type": "markdown",
   "metadata": {},
   "source": [
    "# Prediction Algorithm "
   ]
  },
  {
   "cell_type": "code",
   "execution_count": 40,
   "metadata": {},
   "outputs": [],
   "source": [
    "def predict(price,Acceleration,zero,index):\n",
    "    if((Acceleration>0)):\n",
    "        buy[(index)]=1\n",
    "    elif((Acceleration>0)):\n",
    "        buy[(index)]=-1"
   ]
  },
  {
   "cell_type": "markdown",
   "metadata": {},
   "source": [
    "# All Steps"
   ]
  },
  {
   "cell_type": "code",
   "execution_count": 41,
   "metadata": {},
   "outputs": [],
   "source": [
    "def run(Useseed,UseFile,Filename):\n",
    "    global Total\n",
    "    global Trades\n",
    "    global priceGlobal\n",
    "    global priceAverage\n",
    "    global priceAcceleration\n",
    "    global priceVelocity\n",
    "    global openTrades\n",
    "    global buy\n",
    "    global profit\n",
    "    global Maximum\n",
    "    global Minimum\n",
    "    global buyTrade\n",
    "    global sellTrade\n",
    "    global INTProfit\n",
    "\n",
    "\n",
    "    #############################################   FILE OPERATIONS\n",
    "    if(UseFile==False):\n",
    "        clear(Filename)\n",
    "\n",
    "    for x in range(size):\n",
    "        if(UseFile==True):\n",
    "            if(rd(Filename)==\"\"):\n",
    "                priceGlobal[(x)]=0\n",
    "            else:\n",
    "                temp=rd(Filename)\n",
    "                priceGlobal[(x)]=temp[(x)]\n",
    "            priceGlobal[(x)]=temp[(x)]\n",
    "        else:\n",
    "            priceGlobal[(x)] = R(priceGlobal,x,size,maxlim,seed+x,Useseed)\n",
    "            add(Filename,'{}\\n'.format(priceGlobal[(x)]))\n",
    "\n",
    "    #############################################   FILE OPERATIONS\n",
    "\n",
    "\n",
    "        ################################################### DATA PROCESSING\n",
    "        \n",
    "        timeArr[(x)]=x\n",
    "        processData(x)\n",
    "\n",
    "        zero=np.mean(priceGlobal)\n",
    "        Maximum=np.max(priceGlobal)\n",
    "        Minimum=np.min(priceGlobal)\n",
    "\n",
    "        predict(priceGlobal[(x)],priceAcceleration[(x)],zero,x)\n",
    "\n",
    "        ################################################### DATA PROCESSING\n",
    "        \n",
    "\n",
    "        ################################################  ######### Trader\n",
    "        if((buy[(x)])>0):\n",
    "            buyTrade+=1\n",
    "            Trades+=1\n",
    "            Total=Total-(amount*priceGlobal[(x)])-commission\n",
    "            openTrades[(x,0)]=1+openTrades[(max(x-1,0),0)]\n",
    "            openTrades[(x,1)]=Total\n",
    "            for price in openTrades:\n",
    "                if(priceGlobal[(x)]<price[1]):\n",
    "                    Total=Total\n",
    "                elif(priceGlobal[(x)]>price[1]):\n",
    "                    Total=Total+(priceGlobal[(x)]*amount)\n",
    "                \n",
    "        elif((buy[(x)])<0):\n",
    "            sellTrade+=1\n",
    "            Trades+=1\n",
    "            Total=Total-(amount*priceGlobal[(x)])-commission\n",
    "            openTrades[(x,0)]=1+openTrades[(max(x-1,0),0)]\n",
    "            openTrades[(x,1)]=Total\n",
    "            \n",
    "            for price in openTrades:\n",
    "                if(priceGlobal[(x)]<price[1]):\n",
    "                    Total=Total+(priceGlobal[(x)]*amount)\n",
    "                elif(priceGlobal[(x)]>price[1]):\n",
    "                    Total=Total\n",
    "                    \n",
    "        ################################################    ######### Trader\n",
    "       \n",
    "        \n",
    "        graph(x)\n",
    "        INTProfit=Total-start\n",
    "        profit[(x)]=Total-start\n",
    "      \n",
    "    \n",
    "        \n",
    "\n",
    "    while(openTrades[(size-1,0)]>0):\n",
    "        Total=Total+(amount*priceGlobal[(size-1)])\n",
    "        openTrades[(size-1,0)]-=1\n",
    "\n",
    "    profit[(size-1)]=Total-start  \n",
    "           \n"
   ]
  },
  {
   "cell_type": "markdown",
   "metadata": {},
   "source": [
    "# Executioner  "
   ]
  },
  {
   "cell_type": "markdown",
   "metadata": {},
   "source": [
    "Made Profit : -2.2000000000005002 Total : 997.7999999999995 in 22 Trades out of 50 Trades ,2 Buy,20 Sell<br>\n",
    "Made Profit : -2.2000000000005002 Total : 997.7999999999995 in 22 Trades out of 50 Trades ,2 Buy,20 Sell"
   ]
  },
  {
   "cell_type": "code",
   "execution_count": 42,
   "metadata": {},
   "outputs": [
    {
     "ename": "ValueError",
     "evalue": "could not convert string to float: ''",
     "output_type": "error",
     "traceback": [
      "\u001b[1;31m---------------------------------------------------------------------------\u001b[0m",
      "\u001b[1;31mValueError\u001b[0m                                Traceback (most recent call last)",
      "\u001b[1;32md:\\Trading-Bot\\Trade3.ipynb Cell 21\u001b[0m in \u001b[0;36m<cell line: 1>\u001b[1;34m()\u001b[0m\n\u001b[1;32m----> <a href='vscode-notebook-cell:/d%3A/Trading-Bot/Trade3.ipynb#ch0000020?line=0'>1</a>\u001b[0m run(\u001b[39mFalse\u001b[39;49;00m,\u001b[39mTrue\u001b[39;49;00m,\u001b[39m'\u001b[39;49m\u001b[39mprices.txt\u001b[39;49m\u001b[39m'\u001b[39;49m)\n\u001b[0;32m      <a href='vscode-notebook-cell:/d%3A/Trading-Bot/Trade3.ipynb#ch0000020?line=1'>2</a>\u001b[0m \u001b[39mprint\u001b[39m(\u001b[39m\"\u001b[39m\u001b[39mMade Profit : \u001b[39m\u001b[39m{}\u001b[39;00m\u001b[39m Total : \u001b[39m\u001b[39m{}\u001b[39;00m\u001b[39m in \u001b[39m\u001b[39m{}\u001b[39;00m\u001b[39m Trades out of \u001b[39m\u001b[39m{}\u001b[39;00m\u001b[39m Trades ,\u001b[39m\u001b[39m{}\u001b[39;00m\u001b[39m Buy,\u001b[39m\u001b[39m{}\u001b[39;00m\u001b[39m Sell\u001b[39m\u001b[39m\"\u001b[39m\u001b[39m.\u001b[39mformat(profit[(size\u001b[39m-\u001b[39m\u001b[39m1\u001b[39m)],Total,Trades,size,buyTrade,sellTrade))\n",
      "\u001b[1;32md:\\Trading-Bot\\Trade3.ipynb Cell 21\u001b[0m in \u001b[0;36mrun\u001b[1;34m(Useseed, UseFile, Filename)\u001b[0m\n\u001b[0;32m     <a href='vscode-notebook-cell:/d%3A/Trading-Bot/Trade3.ipynb#ch0000020?line=25'>26</a>\u001b[0m     \u001b[39melse\u001b[39;00m:\n\u001b[0;32m     <a href='vscode-notebook-cell:/d%3A/Trading-Bot/Trade3.ipynb#ch0000020?line=26'>27</a>\u001b[0m         temp\u001b[39m=\u001b[39mrd(Filename)\n\u001b[1;32m---> <a href='vscode-notebook-cell:/d%3A/Trading-Bot/Trade3.ipynb#ch0000020?line=27'>28</a>\u001b[0m         priceGlobal[(x)]\u001b[39m=\u001b[39mtemp[(x)]\n\u001b[0;32m     <a href='vscode-notebook-cell:/d%3A/Trading-Bot/Trade3.ipynb#ch0000020?line=28'>29</a>\u001b[0m     priceGlobal[(x)]\u001b[39m=\u001b[39mtemp[(x)]\n\u001b[0;32m     <a href='vscode-notebook-cell:/d%3A/Trading-Bot/Trade3.ipynb#ch0000020?line=29'>30</a>\u001b[0m \u001b[39melse\u001b[39;00m:\n",
      "\u001b[1;31mValueError\u001b[0m: could not convert string to float: ''"
     ]
    },
    {
     "data": {
      "image/png": "[encoded data removed]",
      "text/plain": [
       "<Figure size 432x288 with 1 Axes>"
      ]
     },
     "metadata": {
      "needs_background": "light"
     },
     "output_type": "display_data"
    }
   ],
   "source": [
    "run(False,False,'prices.txt')\n",
    "print(\"Made Profit : {} Total : {} in {} Trades out of {} Trades ,{} Buy,{} Sell\".format(profit[(size-1)],Total,Trades,size,buyTrade,sellTrade))"
   ]
  }
 ],
 "metadata": {
  "kernelspec": {
   "display_name": "Python 3.9.12 ('base')",
   "language": "python",
   "name": "python3"
  },
  "language_info": {
   "codemirror_mode": {
    "name": "ipython",
    "version": 3
   },
   "file_extension": ".py",
   "mimetype": "text/x-python",
   "name": "python",
   "nbconvert_exporter": "python",
   "pygments_lexer": "ipython3",
   "version": "3.9.12"
  },
  "orig_nbformat": 4,
  "vscode": {
   "interpreter": {
    "hash": "5d1bc4e8955e5bf1bc1e62edeac4af5b49ee96ccaaf80552d380def9590f0d52"
   }
  }
 },
 "nbformat": 4,
 "nbformat_minor": 2
}
