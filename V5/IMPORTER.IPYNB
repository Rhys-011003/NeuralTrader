{
 "cells": [
  {
   "cell_type": "code",
   "execution_count": 11,
   "metadata": {},
   "outputs": [],
   "source": [
    "import numpy as np\n"
   ]
  },
  {
   "cell_type": "code",
   "execution_count": 12,
   "metadata": {},
   "outputs": [],
   "source": [
    "ARR=np.empty(100)\n",
    "FILE=open('data.csv','r')\n",
    "temp=FILE.read().split('\\n')\n",
    "offset=100\n",
    "for x in range(100):\n",
    "    ARR[(x)]=temp[x+offset].split(',')[2]\n",
    "\n"
   ]
  },
  {
   "cell_type": "code",
   "execution_count": 13,
   "metadata": {},
   "outputs": [
    {
     "data": {
      "text/plain": [
       "array([ -4.,  -5., -10.,  -8., -10., -13.,  -4.,  -2.,  -3.,   2.,  -2.,\n",
       "        -3.,  -8., -17., -20., -14., -22., -23., -28., -26., -24., -19.,\n",
       "       -22., -20., -22., -19., -24., -28., -30., -23., -21., -23., -23.,\n",
       "       -18., -20., -22., -28., -28., -37., -31., -39., -30., -25., -24.,\n",
       "       -33., -42., -35., -31., -24., -21., -25., -25., -25., -18., -27.,\n",
       "       -20., -21., -14., -14., -13., -15., -16., -23., -32., -38., -41.,\n",
       "       -47., -45., -48., -46., -41., -48., -40., -36., -44., -35., -35.,\n",
       "       -40., -37., -46., -37., -33., -40., -47., -52., -57., -55., -48.,\n",
       "       -41., -32., -28., -26., -21., -13.,  -7.,   1.,  -7., -10., -17.,\n",
       "       -13.])"
      ]
     },
     "execution_count": 13,
     "metadata": {},
     "output_type": "execute_result"
    }
   ],
   "source": [
    "ARR"
   ]
  },
  {
   "cell_type": "code",
   "execution_count": null,
   "metadata": {},
   "outputs": [],
   "source": []
  }
 ],
 "metadata": {
  "kernelspec": {
   "display_name": "Python 3.9.12 ('base')",
   "language": "python",
   "name": "python3"
  },
  "language_info": {
   "codemirror_mode": {
    "name": "ipython",
    "version": 3
   },
   "file_extension": ".py",
   "mimetype": "text/x-python",
   "name": "python",
   "nbconvert_exporter": "python",
   "pygments_lexer": "ipython3",
   "version": "3.9.12"
  },
  "orig_nbformat": 4,
  "vscode": {
   "interpreter": {
    "hash": "5d1bc4e8955e5bf1bc1e62edeac4af5b49ee96ccaaf80552d380def9590f0d52"
   }
  }
 },
 "nbformat": 4,
 "nbformat_minor": 2
}
