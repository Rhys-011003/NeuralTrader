{
 "cells": [
  {
   "cell_type": "code",
   "execution_count": 87,
   "metadata": {},
   "outputs": [],
   "source": [
    "import numpy as np"
   ]
  },
  {
   "cell_type": "code",
   "execution_count": 88,
   "metadata": {},
   "outputs": [],
   "source": [
    "\n",
    "X=np.empty(5)\n",
    "FILE=open('data.csv','r')\n",
    "temp=FILE.read().split('\\n')\n",
    "offset=0\n",
    "for x in range(5):\n",
    "    X[(x)]=temp[x+offset].split(',')[2]"
   ]
  },
  {
   "cell_type": "code",
   "execution_count": 89,
   "metadata": {},
   "outputs": [],
   "source": [
    "class NeuralNet:\n",
    "    def __init__(self):\n",
    "        self.inputlayersize=5\n",
    "        self.hiddenlayersize=6\n",
    "        self.outputlayersize=1\n",
    "\n",
    "        self.W1=np.random.randn(self.inputlayersize,\\\n",
    "            self.hiddenlayersize)\n",
    "\n",
    "        self.W2=np.random.randn(self.hiddenlayersize,\\\n",
    "            self.outputlayersize)\n",
    "    \n",
    "    def Forward(self,X):\n",
    "        self.z2=np.dot(X,self.W1)\n",
    "        self.a2=self.ActivationFunction(self.z2)\n",
    "        self.z3=np.dot(self.a2,self.W2)\n",
    "        Yhat=self.ActivationFunction(self.z3)\n",
    "        return Yhat\n",
    "        \n",
    "    def ActivationFunction(self,v):\n",
    "        return np.tanh(v)"
   ]
  },
  {
   "cell_type": "code",
   "execution_count": 90,
   "metadata": {},
   "outputs": [],
   "source": [
    "NN=NeuralNet()\n"
   ]
  },
  {
   "cell_type": "code",
   "execution_count": 91,
   "metadata": {},
   "outputs": [],
   "source": [
    "\n",
    "Y=np.array([-1])"
   ]
  },
  {
   "cell_type": "code",
   "execution_count": 92,
   "metadata": {},
   "outputs": [],
   "source": [
    "yHat=NN.Forward(X)"
   ]
  },
  {
   "cell_type": "code",
   "execution_count": 93,
   "metadata": {},
   "outputs": [
    {
     "name": "stdout",
     "output_type": "stream",
     "text": [
      "[[ 0.09543053  0.43975    -0.22959595 -1.94634955 -1.03014614  1.64028162]\n",
      " [ 1.37910856  0.88388636 -2.29851868 -0.28014291  0.49724252  0.79163857]\n",
      " [ 0.2957169  -1.53685591 -1.06976089  0.00429429  0.35897304  0.22905428]\n",
      " [ 1.38997719 -1.56408778  0.50827197  1.18960173 -0.32269514  1.36626671]\n",
      " [-0.04544396  2.01790033  0.09211115 -1.74033543  1.03361065  1.70539253]]\n"
     ]
    }
   ],
   "source": [
    "\n",
    "print(NN.W1)\n"
   ]
  }
 ],
 "metadata": {
  "kernelspec": {
   "display_name": "Python 3.9.12 ('base')",
   "language": "python",
   "name": "python3"
  },
  "language_info": {
   "codemirror_mode": {
    "name": "ipython",
    "version": 3
   },
   "file_extension": ".py",
   "mimetype": "text/x-python",
   "name": "python",
   "nbconvert_exporter": "python",
   "pygments_lexer": "ipython3",
   "version": "3.9.12"
  },
  "orig_nbformat": 4,
  "vscode": {
   "interpreter": {
    "hash": "5d1bc4e8955e5bf1bc1e62edeac4af5b49ee96ccaaf80552d380def9590f0d52"
   }
  }
 },
 "nbformat": 4,
 "nbformat_minor": 2
}
