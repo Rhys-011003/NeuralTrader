{
 "cells": [
  {
   "cell_type": "code",
   "execution_count": 37,
   "metadata": {},
   "outputs": [],
   "source": [
    "import numpy as np\n",
    "from numpy import random as random\n",
    "import matplotlib.pyplot as plt\n"
   ]
  },
  {
   "cell_type": "code",
   "execution_count": 38,
   "metadata": {},
   "outputs": [],
   "source": [
    "#variables\n",
    "size= 20000 #int(input(\"Number Of Trades\"))\n",
    "\n",
    "prices=np.zeros(size)\n",
    "pricesAv=np.zeros(size)\n",
    "pricesAv2=np.zeros(size)\n",
    "pricesV=np.zeros(size)\n",
    "pricesAcc=np.zeros(size)\n",
    "buy=np.zeros(size)\n",
    "time=np.zeros(size)\n",
    "temp=np.zeros(size)\n"
   ]
  },
  {
   "cell_type": "code",
   "execution_count": 39,
   "metadata": {},
   "outputs": [],
   "source": [
    "def Backaverage(array,n,s):        \n",
    "    return (( array[(np.clip(n-1 , 0 , s-1))] + array[(np.clip(n , 0 , s-1))])/2)\n",
    "def average(array,n,s):\n",
    "    return (array[(np.clip(n-1 , 0 , s-1))] +array[(np.clip(n+1 , 0 , s-1))]+ array[(np.clip(n , 0 , s-1))])/3\n",
    "        \n",
    "    \n",
    "    "
   ]
  },
  {
   "cell_type": "code",
   "execution_count": 40,
   "metadata": {},
   "outputs": [],
   "source": [
    "gen=True"
   ]
  },
  {
   "cell_type": "code",
   "execution_count": 41,
   "metadata": {},
   "outputs": [],
   "source": [
    "def R(a,n,s,MAX):\n",
    "    return  ( int(a[(np.clip(n-1,0,s))])  +  ((random.randint(-MAX,MAX))))"
   ]
  },
  {
   "cell_type": "code",
   "execution_count": 42,
   "metadata": {},
   "outputs": [],
   "source": [
    "\n",
    "\n",
    "\n",
    "if(gen): \n",
    "    for x in range(size):\n",
    "        temp[(x)]=(R(temp,x,size,10))\n",
    "\n",
    "    open('prices.txt', 'w').close()\n",
    "    for x in temp:\n",
    "        f=open(\"prices.txt\",\"a\")\n",
    "        f.write(str(x))\n",
    "        f.write(\"\\n\")\n",
    "    f.close()"
   ]
  },
  {
   "cell_type": "code",
   "execution_count": 25,
   "metadata": {},
   "outputs": [],
   "source": [
    "for x in range(size):\n",
    "    temp=open('prices.txt','r').read().split('\\n')\n",
    "    prices[(x)]=temp[(x)]\n",
    "    time[(x)]=x\n",
    "\n",
    "zero= prices.mean()\n",
    "MaximumGraphValue= prices.max()\n",
    "\n",
    "MinimumGraphValue= prices.min()\n"
   ]
  },
  {
   "cell_type": "code",
   "execution_count": 26,
   "metadata": {},
   "outputs": [],
   "source": [
    "for x in range(size):\n",
    "    pricesAv[(x)]  =  Backaverage(prices,x,size)\n",
    "    pricesAv2[(x)]  =  average(prices,x,size)"
   ]
  },
  {
   "cell_type": "code",
   "execution_count": 27,
   "metadata": {},
   "outputs": [],
   "source": [
    "for x in range(size):\n",
    "    pricesV[(x)]=(pricesAv[(x)]-pricesAv[(np.clip(x-1,0,size))])\n",
    "    pricesAcc[(x)]=pricesV[(x)]-pricesV[(np.clip(x-1,0,size))]"
   ]
  },
  {
   "cell_type": "code",
   "execution_count": 28,
   "metadata": {},
   "outputs": [],
   "source": [
    "#Algorithm 1\n",
    "def algo1(scale):\n",
    "    for x in range(size):\n",
    "        if(pricesAcc[(x)]==0):\n",
    "            buy[(x)]=zero\n",
    "        else:\n",
    "            if(pricesV[(x)]-pricesAcc[(x)]<scale):\n",
    "                buy[(x)]=1*MaximumGraphValue #buy\n",
    "            elif(pricesV[(x)]-pricesAcc[(x)]>scale):\n",
    "                buy[(x)]=1*MinimumGraphValue #sell"
   ]
  },
  {
   "cell_type": "code",
   "execution_count": 29,
   "metadata": {},
   "outputs": [],
   "source": [
    "#Algorithm 2\n",
    "def algo2(A,Acceleration,z,threshold):\n",
    "    for index,price in enumerate(A):\n",
    "        if(((price-z)>threshold)and (Acceleration[(index)]<0 )):   #\n",
    "            buy[(x)]=1*MaximumGraphValue #buy\n",
    "        else:\n",
    "            buy[(x)]=1*MinimumGraphValue #sell\n",
    "         \n",
    "\n",
    "\n"
   ]
  },
  {
   "cell_type": "code",
   "execution_count": 30,
   "metadata": {},
   "outputs": [],
   "source": [
    "def initFile(filename):\n",
    "    file=open(filename,'w')\n",
    "    file.write(\"\")\n",
    "    file.close()\n",
    "\n",
    "\n",
    "    file=open(filename,'a')\n",
    "    file.write(\"ID,Amount,At Price,Total\")\n",
    "    file.write(\"\\n\")\n",
    "    file.close()"
   ]
  },
  {
   "cell_type": "code",
   "execution_count": 31,
   "metadata": {},
   "outputs": [],
   "source": [
    "initFile('trades.csv')\n",
    "#algo1(1)\n",
    "algo2(prices,pricesAcc,zero,1)"
   ]
  },
  {
   "cell_type": "code",
   "execution_count": 32,
   "metadata": {},
   "outputs": [
    {
     "name": "stdout",
     "output_type": "stream",
     "text": [
      "19998\n",
      "110604373.0 Profit in 19999 Trades out of 20000 Total possible Trades\n",
      "110605373.0\n"
     ]
    }
   ],
   "source": [
    "amt=1\n",
    "cutoff=100\n",
    "Total=1000\n",
    "NumberOfTrades=0\n",
    "buyCredits=0\n",
    "profit=np.zeros(size)\n",
    "start=Total\n",
    "\n",
    "for id,x in enumerate(prices):\n",
    "    if(Total>cutoff):\n",
    "        if(buy[(id)]>zero):\n",
    "            Total=Total-x*amt\n",
    "            buyCredits+=1\n",
    "\n",
    "            NumberOfTrades+=1\n",
    "            profit[(id)]=(Total-start)\n",
    "        elif((buy[(id)]<zero)and(buyCredits!=0)):\n",
    "            Total=Total+x*amt\n",
    "            buyCredits-=1\n",
    "\n",
    "            profit[(id)]=(Total-start)\n",
    "    elif(Total<cutoff):\n",
    "        Total=Total #+int(input(\"Enter Funds\"))\n",
    "        \n",
    "\n",
    "print(buyCredits)\n",
    "print(\"{} Profit in {} Trades out of {} Total possible Trades\".format(Total-start,NumberOfTrades,size))\n",
    "print(Total)"
   ]
  },
  {
   "cell_type": "code",
   "execution_count": 33,
   "metadata": {},
   "outputs": [
    {
     "data": {
      "image/png": "[encoded data removed]",
      "text/plain": [
       "<Figure size 432x288 with 1 Axes>"
      ]
     },
     "metadata": {
      "needs_background": "light"
     },
     "output_type": "display_data"
    }
   ],
   "source": [
    "plt.plot(time,prices)\n",
    "plt.plot(time,pricesAv,'g')\n",
    "plt.plot(time,pricesAv2,':')\n",
    "plt.plot(time,profit,':')\n",
    "#plt.plot(time,pricesAcc,'o')\n",
    "plt.plot(time,buy,'c')\n",
    "plt.plot(time,np.full(size,zero),'r')\n",
    "\n",
    "plt.show()\n"
   ]
  },
  {
   "cell_type": "code",
   "execution_count": 34,
   "metadata": {},
   "outputs": [],
   "source": [
    "initFile('trades.csv')\n",
    "algo1(1)\n",
    "#algo2(prices,pricesAcc,zero,1)"
   ]
  },
  {
   "cell_type": "code",
   "execution_count": 35,
   "metadata": {},
   "outputs": [
    {
     "name": "stdout",
     "output_type": "stream",
     "text": [
      "6121\n",
      "32844366.0 Profit in 12564 Trades out of 20000 Total possible Trades\n",
      "32845366.0\n"
     ]
    }
   ],
   "source": [
    "amt=1\n",
    "cutoff=100\n",
    "Total=1000\n",
    "NumberOfTrades=0\n",
    "buyCredits=0\n",
    "profit=np.zeros(size)\n",
    "start=Total\n",
    "\n",
    "for id,x in enumerate(prices):\n",
    "    if(Total>cutoff):\n",
    "        if(buy[(id)]>zero):\n",
    "            Total=Total-x*amt\n",
    "            buyCredits+=1\n",
    "\n",
    "            NumberOfTrades+=1\n",
    "            profit[(id)]=(Total-start)\n",
    "        elif((buy[(id)]<zero)and(buyCredits!=0)):\n",
    "            Total=Total+x*amt\n",
    "            buyCredits-=1\n",
    "\n",
    "            profit[(id)]=(Total-start)\n",
    "    elif(Total<cutoff):\n",
    "        Total=Total #+int(input(\"Enter Funds\"))\n",
    "        \n",
    "\n",
    "print(buyCredits)\n",
    "print(\"{} Profit in {} Trades out of {} Total possible Trades\".format(Total-start,NumberOfTrades,size))\n",
    "print(Total)"
   ]
  },
  {
   "cell_type": "code",
   "execution_count": 36,
   "metadata": {},
   "outputs": [
    {
     "data": {
      "image/png": "[encoded data removed]",
      "text/plain": [
       "<Figure size 432x288 with 1 Axes>"
      ]
     },
     "metadata": {
      "needs_background": "light"
     },
     "output_type": "display_data"
    }
   ],
   "source": [
    "plt.plot(time,prices)\n",
    "plt.plot(time,pricesAv,'g')\n",
    "plt.plot(time,pricesAv2,':')\n",
    "plt.plot(time,profit,':')\n",
    "#plt.plot(time,pricesAcc,'o')\n",
    "#plt.plot(time,buy,'c')\n",
    "plt.plot(time,np.full(size,zero),'r')\n",
    "\n",
    "plt.show()\n"
   ]
  }
 ],
 "metadata": {
  "kernelspec": {
   "display_name": "Python 3.9.12 ('base')",
   "language": "python",
   "name": "python3"
  },
  "language_info": {
   "codemirror_mode": {
    "name": "ipython",
    "version": 3
   },
   "file_extension": ".py",
   "mimetype": "text/x-python",
   "name": "python",
   "nbconvert_exporter": "python",
   "pygments_lexer": "ipython3",
   "version": "3.9.12"
  },
  "orig_nbformat": 4,
  "vscode": {
   "interpreter": {
    "hash": "5d1bc4e8955e5bf1bc1e62edeac4af5b49ee96ccaaf80552d380def9590f0d52"
   }
  }
 },
 "nbformat": 4,
 "nbformat_minor": 2
}
